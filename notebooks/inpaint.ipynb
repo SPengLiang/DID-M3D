{
 "cells": [
  {
   "cell_type": "code",
   "execution_count": 3,
   "id": "initial_id",
   "metadata": {
    "collapsed": true,
    "ExecuteTime": {
     "end_time": "2023-11-28T10:53:18.270424800Z",
     "start_time": "2023-11-28T10:53:18.253396400Z"
    }
   },
   "outputs": [],
   "source": [
    "import numpy as np\n",
    "import open3d as o3d\n",
    "import pathlib\n",
    "import re\n",
    "from ipywidgets import interact\n",
    "from lib.datasets.kitti_utils import Calibration\n",
    "import cv2\n",
    "\n",
    "%load_ext autoreload\n",
    "%autoreload 2"
   ]
  },
  {
   "cell_type": "code",
   "execution_count": 17,
   "outputs": [],
   "source": [
    "from pathlib import Path\n",
    "from tools.sample_util import SampleDatabase\n",
    "from tools.dataset_util import Dataset\n",
    "test_dir = Path(\"/mnt/e/DataSet/kitti/kitti_img_database/test\")\n",
    "np.random.seed(0)\n",
    "\n",
    "idx = 6\n",
    "\n",
    "database = SampleDatabase(\"/mnt/e/DataSet/kitti/kitti_img_database/\")\n",
    "dataset = Dataset(\"train\", r\"/mnt/e/DataSet/kitti\")\n",
    "\n",
    "calib_ = dataset.get_calib(idx)\n",
    "image, depth = dataset.get_image_with_depth(idx, use_penet=True)\n",
    "ground, non_ground = dataset.get_lidar_with_ground(idx, fov=True)\n",
    "samples = database.get_samples(ground, non_ground, calib_)\n",
    "image_, depth_, flag = database.add_samples_to_scene(samples, image, depth)\n",
    "    "
   ],
   "metadata": {
    "collapsed": false,
    "ExecuteTime": {
     "end_time": "2023-11-28T11:05:04.861515Z",
     "start_time": "2023-11-28T11:05:04.374882800Z"
    }
   },
   "id": "bfad8044d3b15f66"
  },
  {
   "cell_type": "code",
   "execution_count": 30,
   "outputs": [],
   "source": [
    "from tools.visualize_util import show_o3d\n",
    "from tools.sample_util import to3d\n",
    "cord, rgb = to3d(image_, depth_, calib_)\n",
    "show_o3d(cord, rgb)"
   ],
   "metadata": {
    "collapsed": false,
    "ExecuteTime": {
     "end_time": "2023-11-28T11:24:52.697901300Z",
     "start_time": "2023-11-28T11:24:27.837515500Z"
    }
   },
   "id": "177f037cb7df3c4d"
  },
  {
   "cell_type": "code",
   "execution_count": 27,
   "outputs": [
    {
     "data": {
      "text/plain": "[Car 0.000 2.000 -1.550 box2d: [548.   171.33 572.4  194.42] hwl: [1.480 1.560 3.620] pos: [-2.72  0.82 48.22] ry: -1.620,\n Car 0.000 1.000 2.050 box2d: [328.67 170.65 397.24 204.16] hwl: [1.680 1.670 4.290] pos: [-12.66   1.13  38.44] ry: 1.730,\n Car 0.000 3.000 1.810 box2d: [443. 170. 497. 210.] hwl: [1.700 1.530 3.820] pos: [-5.749847   1.1496497 32.405613 ] ry: 1.636,\n Car 0.000 0.000 -1.210 box2d: [505.25 168.37 575.44 209.18] hwl: [1.670 1.640 4.320] pos: [-2.61  1.13 31.73] ry: -1.300,\n Car 0.000 3.000 2.160 box2d: [579. 171. 700. 216.] hwl: [1.510 1.880 4.320] pos: [ 1.7441401  1.1804354 26.870722 ] ry: 2.227,\n Car 0.000 3.000 -1.933 box2d: [172. 184. 250. 227.] hwl: [1.350 1.640 3.760] pos: [-14.1449585   1.4828962  25.707567 ] ry: -2.434,\n Car 0.000 0.000 0.150 box2d: [ 49.7  185.65 227.42 246.96] hwl: [1.500 1.620 3.880] pos: [-12.54   1.64  19.72] ry: -0.420]"
     },
     "execution_count": 27,
     "metadata": {},
     "output_type": "execute_result"
    }
   ],
   "source": [
    "bbox3d, _, labels = dataset.get_bbox(idx, chosen_cls=[\"Car\"])\n",
    "labels += [sample.to_label() for sample in samples]\n",
    "labels = sorted(labels, key=lambda x:x.pos[2], reverse=True)"
   ],
   "metadata": {
    "collapsed": false,
    "ExecuteTime": {
     "end_time": "2023-11-28T11:12:44.296827100Z",
     "start_time": "2023-11-28T11:12:44.233611200Z"
    }
   },
   "id": "378d89025fc9e680"
  },
  {
   "cell_type": "code",
   "execution_count": 35,
   "outputs": [
    {
     "data": {
      "text/plain": "<Figure size 640x480 with 1 Axes>",
      "image/png": "[encoded data removed]"
     },
     "metadata": {},
     "output_type": "display_data"
    }
   ],
   "source": [
    "canvas = np.zeros(image.shape[:2], dtype=np.int8) - 1\n",
    "for i, label in enumerate(labels):\n",
    "    corners = label.generate_corners3d()\n",
    "    uv, _ = calib_.rect_to_img(corners)\n",
    "    u_min = round(max(0, np.min(uv[:, 0])))\n",
    "    v_min = round(max(0, np.min(uv[:, 1])))\n",
    "    u_max = round(min(np.max(uv[:, 0]), image.shape[1]))\n",
    "    v_max = round(min(np.max(uv[:, 1]), image.shape[0]))\n",
    "    \n",
    "    canvas[v_min: v_max, u_min: u_max] = i\n",
    "    label.area = (v_max - v_min) * (u_max - u_min)\n",
    "\n",
    "from matplotlib import pyplot as plt\n",
    "plt.imshow(canvas)\n",
    "plt.show()"
   ],
   "metadata": {
    "collapsed": false,
    "ExecuteTime": {
     "end_time": "2023-11-28T11:29:58.385387200Z",
     "start_time": "2023-11-28T11:29:58.284010500Z"
    }
   },
   "id": "3126eda8dfb3d389"
  },
  {
   "cell_type": "code",
   "execution_count": 33,
   "outputs": [
    {
     "name": "stdout",
     "output_type": "stream",
     "text": [
      "0.0\n",
      "1.0\n",
      "0.7537878787878788\n",
      "1.0\n",
      "1.0\n",
      "1.0\n",
      "1.0\n"
     ]
    }
   ],
   "source": [
    "for i, label in enumerate(labels):\n",
    "    area = np.sum(canvas == i)\n",
    "    label.area = 1 - area / label.area"
   ],
   "metadata": {
    "collapsed": false,
    "ExecuteTime": {
     "end_time": "2023-11-28T11:29:37.041316900Z",
     "start_time": "2023-11-28T11:29:37.017775800Z"
    }
   },
   "id": "6069746657d0e79d"
  },
  {
   "cell_type": "code",
   "execution_count": null,
   "outputs": [],
   "source": [],
   "metadata": {
    "collapsed": false
   },
   "id": "426f278a8ff11b3d"
  }
 ],
 "metadata": {
  "kernelspec": {
   "display_name": "Python 3",
   "language": "python",
   "name": "python3"
  },
  "language_info": {
   "codemirror_mode": {
    "name": "ipython",
    "version": 2
   },
   "file_extension": ".py",
   "mimetype": "text/x-python",
   "name": "python",
   "nbconvert_exporter": "python",
   "pygments_lexer": "ipython2",
   "version": "2.7.6"
  }
 },
 "nbformat": 4,
 "nbformat_minor": 5
}
