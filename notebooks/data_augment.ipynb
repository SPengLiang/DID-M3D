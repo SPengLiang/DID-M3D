{
 "cells": [
  {
   "cell_type": "code",
   "execution_count": 1,
   "id": "initial_id",
   "metadata": {
    "collapsed": true,
    "ExecuteTime": {
     "end_time": "2023-11-01T13:22:29.995654900Z",
     "start_time": "2023-11-01T13:22:24.671175500Z"
    }
   },
   "outputs": [
    {
     "name": "stdout",
     "output_type": "stream",
     "text": [
      "Requirement already satisfied: numpy in /home/a/anaconda3/envs/DID-M3D/lib/python3.8/site-packages (1.24.4)\r\n",
      "\u001B[33mWARNING: Running pip as the 'root' user can result in broken permissions and conflicting behaviour with the system package manager. It is recommended to use a virtual environment instead: https://pip.pypa.io/warnings/venv\u001B[0m\u001B[33m\r\n",
      "\u001B[0mRequirement already satisfied: open3d in /home/a/anaconda3/envs/DID-M3D/lib/python3.8/site-packages (0.17.0)\r\n",
      "Requirement already satisfied: numpy>=1.18.0 in /home/a/anaconda3/envs/DID-M3D/lib/python3.8/site-packages (from open3d) (1.24.4)\r\n",
      "Requirement already satisfied: dash>=2.6.0 in /home/a/anaconda3/envs/DID-M3D/lib/python3.8/site-packages (from open3d) (2.14.1)\r\n",
      "Requirement already satisfied: werkzeug>=2.2.3 in /home/a/anaconda3/envs/DID-M3D/lib/python3.8/site-packages (from open3d) (3.0.1)\r\n",
      "Requirement already satisfied: nbformat==5.7.0 in /home/a/anaconda3/envs/DID-M3D/lib/python3.8/site-packages (from open3d) (5.7.0)\r\n",
      "Requirement already satisfied: configargparse in /home/a/anaconda3/envs/DID-M3D/lib/python3.8/site-packages (from open3d) (1.7)\r\n",
      "Requirement already satisfied: ipywidgets>=8.0.4 in /home/a/anaconda3/envs/DID-M3D/lib/python3.8/site-packages (from open3d) (8.0.4)\r\n",
      "Requirement already satisfied: addict in /home/a/anaconda3/envs/DID-M3D/lib/python3.8/site-packages (from open3d) (2.4.0)\r\n",
      "Requirement already satisfied: pillow>=9.3.0 in /home/a/anaconda3/envs/DID-M3D/lib/python3.8/site-packages (from open3d) (10.1.0)\r\n",
      "Requirement already satisfied: matplotlib>=3 in /home/a/anaconda3/envs/DID-M3D/lib/python3.8/site-packages (from open3d) (3.7.3)\r\n",
      "Requirement already satisfied: pandas>=1.0 in /home/a/anaconda3/envs/DID-M3D/lib/python3.8/site-packages (from open3d) (2.0.3)\r\n",
      "Requirement already satisfied: pyyaml>=5.4.1 in /home/a/anaconda3/envs/DID-M3D/lib/python3.8/site-packages (from open3d) (6.0.1)\r\n",
      "Requirement already satisfied: scikit-learn>=0.21 in /home/a/anaconda3/envs/DID-M3D/lib/python3.8/site-packages (from open3d) (1.3.2)\r\n",
      "Requirement already satisfied: tqdm in /home/a/anaconda3/envs/DID-M3D/lib/python3.8/site-packages (from open3d) (4.66.1)\r\n",
      "Requirement already satisfied: pyquaternion in /home/a/anaconda3/envs/DID-M3D/lib/python3.8/site-packages (from open3d) (0.9.9)\r\n",
      "Requirement already satisfied: fastjsonschema in /home/a/anaconda3/envs/DID-M3D/lib/python3.8/site-packages (from nbformat==5.7.0->open3d) (2.16.2)\r\n",
      "Requirement already satisfied: jsonschema>=2.6 in /home/a/anaconda3/envs/DID-M3D/lib/python3.8/site-packages (from nbformat==5.7.0->open3d) (4.17.3)\r\n",
      "Requirement already satisfied: jupyter-core in /home/a/anaconda3/envs/DID-M3D/lib/python3.8/site-packages (from nbformat==5.7.0->open3d) (5.3.0)\r\n",
      "Requirement already satisfied: traitlets>=5.1 in /home/a/anaconda3/envs/DID-M3D/lib/python3.8/site-packages (from nbformat==5.7.0->open3d) (5.13.0)\r\n",
      "Requirement already satisfied: Flask<3.1,>=1.0.4 in /home/a/anaconda3/envs/DID-M3D/lib/python3.8/site-packages (from dash>=2.6.0->open3d) (3.0.0)\r\n",
      "Requirement already satisfied: plotly>=5.0.0 in /home/a/anaconda3/envs/DID-M3D/lib/python3.8/site-packages (from dash>=2.6.0->open3d) (5.18.0)\r\n",
      "Requirement already satisfied: dash-html-components==2.0.0 in /home/a/anaconda3/envs/DID-M3D/lib/python3.8/site-packages (from dash>=2.6.0->open3d) (2.0.0)\r\n",
      "Requirement already satisfied: dash-core-components==2.0.0 in /home/a/anaconda3/envs/DID-M3D/lib/python3.8/site-packages (from dash>=2.6.0->open3d) (2.0.0)\r\n",
      "Requirement already satisfied: dash-table==5.0.0 in /home/a/anaconda3/envs/DID-M3D/lib/python3.8/site-packages (from dash>=2.6.0->open3d) (5.0.0)\r\n",
      "Requirement already satisfied: typing-extensions>=4.1.1 in /home/a/anaconda3/envs/DID-M3D/lib/python3.8/site-packages (from dash>=2.6.0->open3d) (4.7.1)\r\n",
      "Requirement already satisfied: requests in /home/a/anaconda3/envs/DID-M3D/lib/python3.8/site-packages (from dash>=2.6.0->open3d) (2.31.0)\r\n",
      "Requirement already satisfied: retrying in /home/a/anaconda3/envs/DID-M3D/lib/python3.8/site-packages (from dash>=2.6.0->open3d) (1.3.4)\r\n",
      "Requirement already satisfied: ansi2html in /home/a/anaconda3/envs/DID-M3D/lib/python3.8/site-packages (from dash>=2.6.0->open3d) (1.8.0)\r\n",
      "Requirement already satisfied: nest-asyncio in /home/a/anaconda3/envs/DID-M3D/lib/python3.8/site-packages (from dash>=2.6.0->open3d) (1.5.6)\r\n",
      "Requirement already satisfied: setuptools in /home/a/anaconda3/envs/DID-M3D/lib/python3.8/site-packages (from dash>=2.6.0->open3d) (68.0.0)\r\n",
      "Requirement already satisfied: importlib-metadata in /home/a/anaconda3/envs/DID-M3D/lib/python3.8/site-packages (from dash>=2.6.0->open3d) (6.0.0)\r\n",
      "Requirement already satisfied: ipykernel>=4.5.1 in /home/a/anaconda3/envs/DID-M3D/lib/python3.8/site-packages (from ipywidgets>=8.0.4->open3d) (6.0.2)\r\n",
      "Requirement already satisfied: ipython>=6.1.0 in /home/a/anaconda3/envs/DID-M3D/lib/python3.8/site-packages (from ipywidgets>=8.0.4->open3d) (7.34.0)\r\n",
      "Requirement already satisfied: widgetsnbextension~=4.0 in /home/a/anaconda3/envs/DID-M3D/lib/python3.8/site-packages (from ipywidgets>=8.0.4->open3d) (4.0.5)\r\n",
      "Requirement already satisfied: jupyterlab-widgets~=3.0 in /home/a/anaconda3/envs/DID-M3D/lib/python3.8/site-packages (from ipywidgets>=8.0.4->open3d) (3.0.5)\r\n",
      "Requirement already satisfied: contourpy>=1.0.1 in /home/a/anaconda3/envs/DID-M3D/lib/python3.8/site-packages (from matplotlib>=3->open3d) (1.1.1)\r\n",
      "Requirement already satisfied: cycler>=0.10 in /home/a/anaconda3/envs/DID-M3D/lib/python3.8/site-packages (from matplotlib>=3->open3d) (0.12.1)\r\n",
      "Requirement already satisfied: fonttools>=4.22.0 in /home/a/anaconda3/envs/DID-M3D/lib/python3.8/site-packages (from matplotlib>=3->open3d) (4.43.1)\r\n",
      "Requirement already satisfied: kiwisolver>=1.0.1 in /home/a/anaconda3/envs/DID-M3D/lib/python3.8/site-packages (from matplotlib>=3->open3d) (1.4.5)\r\n",
      "Requirement already satisfied: packaging>=20.0 in /home/a/anaconda3/envs/DID-M3D/lib/python3.8/site-packages (from matplotlib>=3->open3d) (23.1)\r\n",
      "Requirement already satisfied: pyparsing>=2.3.1 in /home/a/anaconda3/envs/DID-M3D/lib/python3.8/site-packages (from matplotlib>=3->open3d) (3.1.1)\r\n",
      "Requirement already satisfied: python-dateutil>=2.7 in /home/a/anaconda3/envs/DID-M3D/lib/python3.8/site-packages (from matplotlib>=3->open3d) (2.8.2)\r\n",
      "Requirement already satisfied: importlib-resources>=3.2.0 in /home/a/anaconda3/envs/DID-M3D/lib/python3.8/site-packages (from matplotlib>=3->open3d) (6.1.0)\r\n",
      "Requirement already satisfied: pytz>=2020.1 in /home/a/anaconda3/envs/DID-M3D/lib/python3.8/site-packages (from pandas>=1.0->open3d) (2023.3.post1)\r\n",
      "Requirement already satisfied: tzdata>=2022.1 in /home/a/anaconda3/envs/DID-M3D/lib/python3.8/site-packages (from pandas>=1.0->open3d) (2023.3)\r\n",
      "Requirement already satisfied: scipy>=1.5.0 in /home/a/anaconda3/envs/DID-M3D/lib/python3.8/site-packages (from scikit-learn>=0.21->open3d) (1.10.1)\r\n",
      "Requirement already satisfied: joblib>=1.1.1 in /home/a/anaconda3/envs/DID-M3D/lib/python3.8/site-packages (from scikit-learn>=0.21->open3d) (1.3.2)\r\n",
      "Requirement already satisfied: threadpoolctl>=2.0.0 in /home/a/anaconda3/envs/DID-M3D/lib/python3.8/site-packages (from scikit-learn>=0.21->open3d) (3.2.0)\r\n",
      "Requirement already satisfied: MarkupSafe>=2.1.1 in /home/a/anaconda3/envs/DID-M3D/lib/python3.8/site-packages (from werkzeug>=2.2.3->open3d) (2.1.1)\r\n",
      "Requirement already satisfied: Jinja2>=3.1.2 in /home/a/anaconda3/envs/DID-M3D/lib/python3.8/site-packages (from Flask<3.1,>=1.0.4->dash>=2.6.0->open3d) (3.1.2)\r\n",
      "Requirement already satisfied: itsdangerous>=2.1.2 in /home/a/anaconda3/envs/DID-M3D/lib/python3.8/site-packages (from Flask<3.1,>=1.0.4->dash>=2.6.0->open3d) (2.1.2)\r\n",
      "Requirement already satisfied: click>=8.1.3 in /home/a/anaconda3/envs/DID-M3D/lib/python3.8/site-packages (from Flask<3.1,>=1.0.4->dash>=2.6.0->open3d) (8.1.7)\r\n",
      "Requirement already satisfied: blinker>=1.6.2 in /home/a/anaconda3/envs/DID-M3D/lib/python3.8/site-packages (from Flask<3.1,>=1.0.4->dash>=2.6.0->open3d) (1.6.3)\r\n",
      "Requirement already satisfied: zipp>=0.5 in /home/a/anaconda3/envs/DID-M3D/lib/python3.8/site-packages (from importlib-metadata->dash>=2.6.0->open3d) (3.11.0)\r\n",
      "Requirement already satisfied: debugpy<2.0,>=1.0.0 in /home/a/anaconda3/envs/DID-M3D/lib/python3.8/site-packages (from ipykernel>=4.5.1->ipywidgets>=8.0.4->open3d) (1.6.7)\r\n",
      "Requirement already satisfied: jupyter-client<7.0 in /home/a/anaconda3/envs/DID-M3D/lib/python3.8/site-packages (from ipykernel>=4.5.1->ipywidgets>=8.0.4->open3d) (6.1.12)\r\n",
      "Requirement already satisfied: tornado<7.0,>=4.2 in /home/a/anaconda3/envs/DID-M3D/lib/python3.8/site-packages (from ipykernel>=4.5.1->ipywidgets>=8.0.4->open3d) (6.3.3)\r\n",
      "Requirement already satisfied: matplotlib-inline<0.2.0,>=0.1.0 in /home/a/anaconda3/envs/DID-M3D/lib/python3.8/site-packages (from ipykernel>=4.5.1->ipywidgets>=8.0.4->open3d) (0.1.6)\r\n",
      "Requirement already satisfied: jedi>=0.16 in /home/a/anaconda3/envs/DID-M3D/lib/python3.8/site-packages (from ipython>=6.1.0->ipywidgets>=8.0.4->open3d) (0.18.1)\r\n",
      "Requirement already satisfied: decorator in /home/a/anaconda3/envs/DID-M3D/lib/python3.8/site-packages (from ipython>=6.1.0->ipywidgets>=8.0.4->open3d) (5.1.1)\r\n",
      "Requirement already satisfied: pickleshare in /home/a/anaconda3/envs/DID-M3D/lib/python3.8/site-packages (from ipython>=6.1.0->ipywidgets>=8.0.4->open3d) (0.7.5)\r\n",
      "Requirement already satisfied: prompt-toolkit!=3.0.0,!=3.0.1,<3.1.0,>=2.0.0 in /home/a/anaconda3/envs/DID-M3D/lib/python3.8/site-packages (from ipython>=6.1.0->ipywidgets>=8.0.4->open3d) (3.0.36)\r\n",
      "Requirement already satisfied: pygments in /home/a/anaconda3/envs/DID-M3D/lib/python3.8/site-packages (from ipython>=6.1.0->ipywidgets>=8.0.4->open3d) (2.15.1)\r\n",
      "Requirement already satisfied: backcall in /home/a/anaconda3/envs/DID-M3D/lib/python3.8/site-packages (from ipython>=6.1.0->ipywidgets>=8.0.4->open3d) (0.2.0)\r\n",
      "Requirement already satisfied: pexpect>4.3 in /home/a/anaconda3/envs/DID-M3D/lib/python3.8/site-packages (from ipython>=6.1.0->ipywidgets>=8.0.4->open3d) (4.8.0)\r\n",
      "Requirement already satisfied: attrs>=17.4.0 in /home/a/anaconda3/envs/DID-M3D/lib/python3.8/site-packages (from jsonschema>=2.6->nbformat==5.7.0->open3d) (23.1.0)\r\n",
      "Requirement already satisfied: pkgutil-resolve-name>=1.3.10 in /home/a/anaconda3/envs/DID-M3D/lib/python3.8/site-packages (from jsonschema>=2.6->nbformat==5.7.0->open3d) (1.3.10)\r\n",
      "Requirement already satisfied: pyrsistent!=0.17.0,!=0.17.1,!=0.17.2,>=0.14.0 in /home/a/anaconda3/envs/DID-M3D/lib/python3.8/site-packages (from jsonschema>=2.6->nbformat==5.7.0->open3d) (0.18.0)\r\n",
      "Requirement already satisfied: tenacity>=6.2.0 in /home/a/anaconda3/envs/DID-M3D/lib/python3.8/site-packages (from plotly>=5.0.0->dash>=2.6.0->open3d) (8.2.3)\r\n",
      "Requirement already satisfied: six>=1.5 in /home/a/anaconda3/envs/DID-M3D/lib/python3.8/site-packages (from python-dateutil>=2.7->matplotlib>=3->open3d) (1.16.0)\r\n",
      "Requirement already satisfied: platformdirs>=2.5 in /home/a/anaconda3/envs/DID-M3D/lib/python3.8/site-packages (from jupyter-core->nbformat==5.7.0->open3d) (3.10.0)\r\n",
      "Requirement already satisfied: charset-normalizer<4,>=2 in /home/a/anaconda3/envs/DID-M3D/lib/python3.8/site-packages (from requests->dash>=2.6.0->open3d) (2.0.4)\r\n",
      "Requirement already satisfied: idna<4,>=2.5 in /home/a/anaconda3/envs/DID-M3D/lib/python3.8/site-packages (from requests->dash>=2.6.0->open3d) (3.4)\r\n",
      "Requirement already satisfied: urllib3<3,>=1.21.1 in /home/a/anaconda3/envs/DID-M3D/lib/python3.8/site-packages (from requests->dash>=2.6.0->open3d) (1.26.18)\r\n",
      "Requirement already satisfied: certifi>=2017.4.17 in /home/a/anaconda3/envs/DID-M3D/lib/python3.8/site-packages (from requests->dash>=2.6.0->open3d) (2023.7.22)\r\n",
      "Requirement already satisfied: parso<0.9.0,>=0.8.0 in /home/a/anaconda3/envs/DID-M3D/lib/python3.8/site-packages (from jedi>=0.16->ipython>=6.1.0->ipywidgets>=8.0.4->open3d) (0.8.3)\r\n",
      "Requirement already satisfied: pyzmq>=13 in /home/a/anaconda3/envs/DID-M3D/lib/python3.8/site-packages (from jupyter-client<7.0->ipykernel>=4.5.1->ipywidgets>=8.0.4->open3d) (23.2.0)\r\n",
      "Requirement already satisfied: ptyprocess>=0.5 in /home/a/anaconda3/envs/DID-M3D/lib/python3.8/site-packages (from pexpect>4.3->ipython>=6.1.0->ipywidgets>=8.0.4->open3d) (0.7.0)\r\n",
      "Requirement already satisfied: wcwidth in /home/a/anaconda3/envs/DID-M3D/lib/python3.8/site-packages (from prompt-toolkit!=3.0.0,!=3.0.1,<3.1.0,>=2.0.0->ipython>=6.1.0->ipywidgets>=8.0.4->open3d) (0.2.5)\r\n",
      "\u001B[33mWARNING: Running pip as the 'root' user can result in broken permissions and conflicting behaviour with the system package manager. It is recommended to use a virtual environment instead: https://pip.pypa.io/warnings/venv\u001B[0m\u001B[33m\r\n",
      "\u001B[0mRequirement already satisfied: ipywidgets in /home/a/anaconda3/envs/DID-M3D/lib/python3.8/site-packages (8.0.4)\r\n",
      "Requirement already satisfied: ipykernel>=4.5.1 in /home/a/anaconda3/envs/DID-M3D/lib/python3.8/site-packages (from ipywidgets) (6.0.2)\r\n",
      "Requirement already satisfied: ipython>=6.1.0 in /home/a/anaconda3/envs/DID-M3D/lib/python3.8/site-packages (from ipywidgets) (7.34.0)\r\n",
      "Requirement already satisfied: traitlets>=4.3.1 in /home/a/anaconda3/envs/DID-M3D/lib/python3.8/site-packages (from ipywidgets) (5.13.0)\r\n",
      "Requirement already satisfied: widgetsnbextension~=4.0 in /home/a/anaconda3/envs/DID-M3D/lib/python3.8/site-packages (from ipywidgets) (4.0.5)\r\n",
      "Requirement already satisfied: jupyterlab-widgets~=3.0 in /home/a/anaconda3/envs/DID-M3D/lib/python3.8/site-packages (from ipywidgets) (3.0.5)\r\n",
      "Requirement already satisfied: debugpy<2.0,>=1.0.0 in /home/a/anaconda3/envs/DID-M3D/lib/python3.8/site-packages (from ipykernel>=4.5.1->ipywidgets) (1.6.7)\r\n",
      "Requirement already satisfied: jupyter-client<7.0 in /home/a/anaconda3/envs/DID-M3D/lib/python3.8/site-packages (from ipykernel>=4.5.1->ipywidgets) (6.1.12)\r\n",
      "Requirement already satisfied: tornado<7.0,>=4.2 in /home/a/anaconda3/envs/DID-M3D/lib/python3.8/site-packages (from ipykernel>=4.5.1->ipywidgets) (6.3.3)\r\n",
      "Requirement already satisfied: matplotlib-inline<0.2.0,>=0.1.0 in /home/a/anaconda3/envs/DID-M3D/lib/python3.8/site-packages (from ipykernel>=4.5.1->ipywidgets) (0.1.6)\r\n",
      "Requirement already satisfied: setuptools>=18.5 in /home/a/anaconda3/envs/DID-M3D/lib/python3.8/site-packages (from ipython>=6.1.0->ipywidgets) (68.0.0)\r\n",
      "Requirement already satisfied: jedi>=0.16 in /home/a/anaconda3/envs/DID-M3D/lib/python3.8/site-packages (from ipython>=6.1.0->ipywidgets) (0.18.1)\r\n",
      "Requirement already satisfied: decorator in /home/a/anaconda3/envs/DID-M3D/lib/python3.8/site-packages (from ipython>=6.1.0->ipywidgets) (5.1.1)\r\n",
      "Requirement already satisfied: pickleshare in /home/a/anaconda3/envs/DID-M3D/lib/python3.8/site-packages (from ipython>=6.1.0->ipywidgets) (0.7.5)\r\n",
      "Requirement already satisfied: prompt-toolkit!=3.0.0,!=3.0.1,<3.1.0,>=2.0.0 in /home/a/anaconda3/envs/DID-M3D/lib/python3.8/site-packages (from ipython>=6.1.0->ipywidgets) (3.0.36)\r\n",
      "Requirement already satisfied: pygments in /home/a/anaconda3/envs/DID-M3D/lib/python3.8/site-packages (from ipython>=6.1.0->ipywidgets) (2.15.1)\r\n",
      "Requirement already satisfied: backcall in /home/a/anaconda3/envs/DID-M3D/lib/python3.8/site-packages (from ipython>=6.1.0->ipywidgets) (0.2.0)\r\n",
      "Requirement already satisfied: pexpect>4.3 in /home/a/anaconda3/envs/DID-M3D/lib/python3.8/site-packages (from ipython>=6.1.0->ipywidgets) (4.8.0)\r\n",
      "Requirement already satisfied: parso<0.9.0,>=0.8.0 in /home/a/anaconda3/envs/DID-M3D/lib/python3.8/site-packages (from jedi>=0.16->ipython>=6.1.0->ipywidgets) (0.8.3)\r\n",
      "Requirement already satisfied: jupyter-core>=4.6.0 in /home/a/anaconda3/envs/DID-M3D/lib/python3.8/site-packages (from jupyter-client<7.0->ipykernel>=4.5.1->ipywidgets) (5.3.0)\r\n",
      "Requirement already satisfied: pyzmq>=13 in /home/a/anaconda3/envs/DID-M3D/lib/python3.8/site-packages (from jupyter-client<7.0->ipykernel>=4.5.1->ipywidgets) (23.2.0)\r\n",
      "Requirement already satisfied: python-dateutil>=2.1 in /home/a/anaconda3/envs/DID-M3D/lib/python3.8/site-packages (from jupyter-client<7.0->ipykernel>=4.5.1->ipywidgets) (2.8.2)\r\n",
      "Requirement already satisfied: ptyprocess>=0.5 in /home/a/anaconda3/envs/DID-M3D/lib/python3.8/site-packages (from pexpect>4.3->ipython>=6.1.0->ipywidgets) (0.7.0)\r\n",
      "Requirement already satisfied: wcwidth in /home/a/anaconda3/envs/DID-M3D/lib/python3.8/site-packages (from prompt-toolkit!=3.0.0,!=3.0.1,<3.1.0,>=2.0.0->ipython>=6.1.0->ipywidgets) (0.2.5)\r\n",
      "Requirement already satisfied: platformdirs>=2.5 in /home/a/anaconda3/envs/DID-M3D/lib/python3.8/site-packages (from jupyter-core>=4.6.0->jupyter-client<7.0->ipykernel>=4.5.1->ipywidgets) (3.10.0)\r\n",
      "Requirement already satisfied: six>=1.5 in /home/a/anaconda3/envs/DID-M3D/lib/python3.8/site-packages (from python-dateutil>=2.1->jupyter-client<7.0->ipykernel>=4.5.1->ipywidgets) (1.16.0)\r\n",
      "\u001B[33mWARNING: Running pip as the 'root' user can result in broken permissions and conflicting behaviour with the system package manager. It is recommended to use a virtual environment instead: https://pip.pypa.io/warnings/venv\u001B[0m\u001B[33m\r\n",
      "\u001B[0mRequirement already satisfied: opencv-python in /home/a/anaconda3/envs/DID-M3D/lib/python3.8/site-packages (4.8.1.78)\r\n",
      "Requirement already satisfied: numpy>=1.17.0 in /home/a/anaconda3/envs/DID-M3D/lib/python3.8/site-packages (from opencv-python) (1.24.4)\r\n",
      "\u001B[33mWARNING: Running pip as the 'root' user can result in broken permissions and conflicting behaviour with the system package manager. It is recommended to use a virtual environment instead: https://pip.pypa.io/warnings/venv\u001B[0m\u001B[33m\r\n",
      "\u001B[0m"
     ]
    }
   ],
   "source": [
    "!pip install numpy\n",
    "!pip install open3d\n",
    "!pip install ipywidgets\n",
    "!pip install opencv-python"
   ]
  },
  {
   "cell_type": "code",
   "execution_count": 29,
   "outputs": [
    {
     "name": "stdout",
     "output_type": "stream",
     "text": [
      "The autoreload extension is already loaded. To reload it, use:\n",
      "  %reload_ext autoreload\n"
     ]
    }
   ],
   "source": [
    "import numpy as np\n",
    "import open3d as o3d\n",
    "import pathlib\n",
    "import re\n",
    "from ipywidgets import interact\n",
    "from lib.datasets.kitti_utils import Calibration\n",
    "import cv2\n",
    "\n",
    "%load_ext autoreload\n",
    "%autoreload 2"
   ],
   "metadata": {
    "collapsed": false,
    "ExecuteTime": {
     "end_time": "2023-11-21T13:03:55.422067700Z",
     "start_time": "2023-11-21T13:03:54.807766600Z"
    }
   },
   "id": "716567f7b469b3f2"
  },
  {
   "cell_type": "markdown",
   "source": [
    "#### 读取图像"
   ],
   "metadata": {
    "collapsed": false,
    "ExecuteTime": {
     "end_time": "2023-11-01T13:17:07.664492100Z",
     "start_time": "2023-11-01T13:17:07.659493200Z"
    }
   },
   "id": "7febd0e5114fea75"
  },
  {
   "cell_type": "code",
   "execution_count": 30,
   "outputs": [
    {
     "name": "stdout",
     "output_type": "stream",
     "text": [
      "(375, 1242, 3) (375, 1242)\n"
     ]
    }
   ],
   "source": [
    "from tools.dataset_util import Dataset\n",
    "idx = 13\n",
    "dataset = Dataset(\"train\", r\"/mnt/e/DataSet/kitti\")\n",
    "image, depth = dataset.get_image_with_depth(idx)\n",
    "calib = dataset.get_calib(idx)\n",
    "print(image.shape, depth.shape)"
   ],
   "metadata": {
    "collapsed": false,
    "ExecuteTime": {
     "end_time": "2023-11-21T13:03:56.031540100Z",
     "start_time": "2023-11-21T13:03:55.857764Z"
    }
   },
   "id": "bb45ad74f822d987"
  },
  {
   "cell_type": "markdown",
   "source": [
    "#### 图像投影至 rect"
   ],
   "metadata": {
    "collapsed": false,
    "ExecuteTime": {
     "end_time": "2023-11-01T13:17:08.741914600Z",
     "start_time": "2023-11-01T13:17:08.657936900Z"
    }
   },
   "id": "87df21fbf9799e2e"
  },
  {
   "cell_type": "code",
   "execution_count": 3,
   "outputs": [
    {
     "name": "stdout",
     "output_type": "stream",
     "text": [
      "(465750, 3)\n"
     ]
    }
   ],
   "source": [
    "h, w = depth.shape\n",
    "u = np.repeat(np.arange(w), h)\n",
    "v = np.tile(np.arange(h), w)\n",
    "d = depth[v, u]\n",
    "rgb = image[v, u][:, ::-1]\n",
    "points = calib.img_to_rect(u, v, d)\n",
    "print(points.shape)"
   ],
   "metadata": {
    "collapsed": false,
    "ExecuteTime": {
     "end_time": "2023-11-21T07:37:35.824293600Z",
     "start_time": "2023-11-21T07:37:35.788112300Z"
    }
   },
   "id": "f8d7113c7153cf3c"
  },
  {
   "cell_type": "markdown",
   "source": [
    "#### 获取标签"
   ],
   "metadata": {
    "collapsed": false
   },
   "id": "31f5c690d57b4699"
  },
  {
   "cell_type": "code",
   "execution_count": 4,
   "outputs": [
    {
     "name": "stdout",
     "output_type": "stream",
     "text": [
      "[[-3.16000009  1.04499996 20.12999916  3.47        1.45        1.56\n",
      "   1.59      ]]\n"
     ]
    }
   ],
   "source": [
    "obj_list = dataset.get_label(idx)\n",
    "\n",
    "bbox3d = dataset.get_bbox3d_rect(idx, on_button=False)\n",
    "print(bbox3d)"
   ],
   "metadata": {
    "collapsed": false,
    "ExecuteTime": {
     "end_time": "2023-11-21T07:37:36.662334600Z",
     "start_time": "2023-11-21T07:37:36.630870300Z"
    }
   },
   "id": "4df54d95e914d436"
  },
  {
   "cell_type": "code",
   "execution_count": 22,
   "outputs": [
    {
     "name": "stdout",
     "output_type": "stream",
     "text": [
      "[1.81824249]\n"
     ]
    }
   ],
   "source": [
    "ry = bbox3d[:, -1]\n",
    "xyz = bbox3d[:, 0:3]\n",
    "xyz_ = xyz.copy()\n",
    "xyz_[:, 0] += 5\n",
    "xyz_[:, 2] += 5\n",
    "\n",
    "def get_ry_(xyz, xyz_, ry, calib:Calibration):\n",
    "    uv_, _ = calib.rect_to_img(xyz_)\n",
    "    uv, _ = calib.rect_to_img(xyz)\n",
    "    alpha = calib.ry2alpha(ry, uv[:,0])\n",
    "    ry_ = calib.alpha2ry(alpha, uv_[:,0])\n",
    "    return ry_\n",
    "\n",
    "calib = dataset.get_calib(idx)\n",
    "ry_ = get_ry_(xyz, xyz_, ry, calib)\n",
    "\n",
    "print(ry_)"
   ],
   "metadata": {
    "collapsed": false,
    "ExecuteTime": {
     "end_time": "2023-11-21T08:28:02.949679500Z",
     "start_time": "2023-11-21T08:28:02.854468700Z"
    }
   },
   "id": "ac5f51099298d735"
  },
  {
   "cell_type": "markdown",
   "source": [
    "#### Data Augment"
   ],
   "metadata": {
    "collapsed": false
   },
   "id": "7e5bd55f2506a889"
  },
  {
   "cell_type": "code",
   "execution_count": 23,
   "outputs": [],
   "source": [
    "from tools.box_util import remove_points_in_boxes3d, get_objects_in_boxes3d\n",
    "points_with_rgb = np.concatenate([points, rgb], axis=1)\n",
    "enlarge = 0.2\n",
    "no_object = remove_points_in_boxes3d(points_with_rgb, bbox3d, enlarge)\n",
    "objects = get_objects_in_boxes3d(points_with_rgb, bbox3d, enlarge)"
   ],
   "metadata": {
    "collapsed": false,
    "ExecuteTime": {
     "end_time": "2023-11-21T08:28:03.546216300Z",
     "start_time": "2023-11-21T08:28:03.498605600Z"
    }
   },
   "id": "e5a04ace2d38c040"
  },
  {
   "cell_type": "code",
   "execution_count": 24,
   "outputs": [],
   "source": [
    "\n",
    "def translate(points, xyz, ry, xyz_, ry_):\n",
    "    points = points.copy()\n",
    "    points -= xyz\n",
    "    theta = ry_ - ry\n",
    "    rot_mat = np.array([\n",
    "        [np.cos(theta), 0, np.sin(theta)],\n",
    "        [0, 1, 0],\n",
    "        [-np.sin(theta), 0, np.cos(theta)]\n",
    "    ])\n",
    "    points = np.dot(points, rot_mat.T)\n",
    "    points += xyz_\n",
    "    return points\n",
    "\n",
    "\n",
    "for i, obj in enumerate(objects):\n",
    "    cord = obj[:,0:3]\n",
    "    obj[:,0:3] = translate(cord, xyz[i], ry[i], xyz_[i], ry_[i])\n",
    "\n",
    "aug_points = np.concatenate([no_object, *objects], axis=0)\n"
   ],
   "metadata": {
    "collapsed": false,
    "ExecuteTime": {
     "end_time": "2023-11-21T08:28:03.771156500Z",
     "start_time": "2023-11-21T08:28:03.657283400Z"
    }
   },
   "id": "e6ac565b1f830a29"
  },
  {
   "cell_type": "markdown",
   "source": [
    "#### 投影回图像"
   ],
   "metadata": {
    "collapsed": false
   },
   "id": "be0c9696e971a738"
  },
  {
   "cell_type": "code",
   "execution_count": 25,
   "outputs": [],
   "source": [
    "uv, depth = calib.rect_to_img(aug_points[:, 0:3])\n",
    "u, v = np.round(uv[:, 0]).astype(int), np.round(uv[:, 1]).astype(int)\n",
    "width, height = u.max() + 1, v.max() + 1\n",
    "\n",
    "img_no_obj = np.zeros((height, width, 3), dtype=np.uint8)\n",
    "img_no_obj[v, u] = aug_points[:, 3:]\n",
    "img_no_obj = cv2.cvtColor(img_no_obj, cv2.COLOR_RGB2BGR)"
   ],
   "metadata": {
    "collapsed": false,
    "ExecuteTime": {
     "end_time": "2023-11-21T08:28:04.110025900Z",
     "start_time": "2023-11-21T08:28:04.020647300Z"
    }
   },
   "id": "61758e41bd1d4fc6"
  },
  {
   "cell_type": "markdown",
   "source": [
    "#### "
   ],
   "metadata": {
    "collapsed": false
   },
   "id": "4fcd5342cd83602f"
  },
  {
   "cell_type": "code",
   "execution_count": 28,
   "outputs": [
    {
     "data": {
      "text/plain": "231"
     },
     "execution_count": 28,
     "metadata": {},
     "output_type": "execute_result"
    }
   ],
   "source": [
    "from matplotlib import pyplot as plt\n",
    "plt.imshow(img_no_obj)\n",
    "plt.show()\n"
   ],
   "metadata": {
    "collapsed": false,
    "ExecuteTime": {
     "end_time": "2023-11-21T08:30:36.336146900Z",
     "start_time": "2023-11-21T08:30:36.309132500Z"
    }
   },
   "id": "c47161eec829c305"
  },
  {
   "cell_type": "markdown",
   "source": [
    "#### 绘制点云"
   ],
   "metadata": {
    "collapsed": false
   },
   "id": "968fed336dfc4768"
  },
  {
   "cell_type": "code",
   "execution_count": 20,
   "outputs": [],
   "source": [
    "from tools.visualize_util import draw_3d_box\n",
    "\n",
    "vis = o3d.visualization.Visualizer()\n",
    "pcd = o3d.geometry.PointCloud()\n",
    "pcd.points = o3d.utility.Vector3dVector(no_object[:,0:3])\n",
    "pcd.colors = o3d.utility.Vector3dVector(no_object[:,3:] / 256.)\n",
    "\n",
    "vis.create_window()\n",
    "vis.add_geometry(pcd)\n",
    "\n",
    "for obj in obj_list:\n",
    "    corner = obj.generate_corners3d()\n",
    "    line_set = draw_3d_box(corner)\n",
    "    vis.add_geometry(line_set)\n",
    "    \n",
    "vis.run()\n",
    "vis.destroy_window()"
   ],
   "metadata": {
    "collapsed": false,
    "ExecuteTime": {
     "end_time": "2023-11-21T08:24:40.436533Z",
     "start_time": "2023-11-21T08:24:37.903693600Z"
    }
   },
   "id": "49e9e47ef6f0ae78"
  },
  {
   "cell_type": "markdown",
   "source": [
    "#### "
   ],
   "metadata": {
    "collapsed": false
   },
   "id": "2e988a10f7eb26f9"
  },
  {
   "cell_type": "code",
   "execution_count": 4,
   "outputs": [],
   "source": [
    "from aug.roiaware_pool3d.roiaware_pool3d_utils import points_in_boxes_cpu\n",
    "\n",
    "\n"
   ],
   "metadata": {
    "collapsed": false,
    "ExecuteTime": {
     "end_time": "2023-11-01T15:12:21.351970400Z",
     "start_time": "2023-11-01T15:12:21.344970100Z"
    }
   },
   "id": "b01501be02ff4a1f"
  }
 ],
 "metadata": {
  "kernelspec": {
   "display_name": "Python 3",
   "language": "python",
   "name": "python3"
  },
  "language_info": {
   "codemirror_mode": {
    "name": "ipython",
    "version": 2
   },
   "file_extension": ".py",
   "mimetype": "text/x-python",
   "name": "python",
   "nbconvert_exporter": "python",
   "pygments_lexer": "ipython2",
   "version": "2.7.6"
  }
 },
 "nbformat": 4,
 "nbformat_minor": 5
}
